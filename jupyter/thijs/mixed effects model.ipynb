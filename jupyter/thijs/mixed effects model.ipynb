{
 "cells": [
  {
   "cell_type": "code",
   "execution_count": null,
   "metadata": {},
   "outputs": [],
   "source": [
    "import pandas as pd\n",
    "import statsmodels.api as sm\n",
    "import statsmodels.formula.api as smf\n",
    "\n",
    "# Sample data (replace this with your actual data)\n",
    "data = {\n",
    "    'Animal_ID': ['A', 'A', 'A', 'B', 'B', 'B', 'C', 'C', 'C'],  # Animal IDs\n",
    "    'Protocol': ['Protocol1', 'Protocol2', 'Protocol3'] * 3,  # Protocol names\n",
    "    'Neural_Response': [10, 15, 12, 8, 9, 11, 13, 14, 12]  # Neural response values\n",
    "}\n",
    "\n",
    "# Create a pandas DataFrame from the sample data\n",
    "df = pd.DataFrame(data)\n",
    "\n",
    "# Convert Animal_ID and Protocol to categorical variables\n",
    "df['Animal_ID'] = pd.Categorical(df['Animal_ID'])\n",
    "df['Protocol'] = pd.Categorical(df['Protocol'])\n",
    "\n",
    "# Fit a mixed-effects model\n",
    "mixed_lm = smf.mixedlm(\"Neural_Response ~ Protocol\", df, groups=df[\"Animal_ID\"])\n",
    "mixed_lm_fit = mixed_lm.fit()\n",
    "\n",
    "# Print the summary of the model\n",
    "print(mixed_lm_fit.summary())\n"
   ]
  }
 ],
 "metadata": {
  "language_info": {
   "name": "python"
  }
 },
 "nbformat": 4,
 "nbformat_minor": 2
}
