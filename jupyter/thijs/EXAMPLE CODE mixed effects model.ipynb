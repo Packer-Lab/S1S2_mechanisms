{
 "cells": [
  {
   "cell_type": "code",
   "execution_count": 17,
   "metadata": {},
   "outputs": [
    {
     "name": "stdout",
     "output_type": "stream",
     "text": [
      "  Animal_ID   Protocol  Neural_Response\n",
      "0         A  Protocol1               10\n",
      "1         B  Protocol1               15\n",
      "2         C  Protocol1               12\n",
      "3         D  Protocol1                8\n",
      "4         A  Protocol2               12\n",
      "5         B  Protocol2               11\n",
      "6         C  Protocol2               13\n",
      "7         D  Protocol2               14 \n",
      "\n",
      "\n",
      "            Mixed Linear Model Regression Results\n",
      "==============================================================\n",
      "Model:             MixedLM Dependent Variable: Neural_Response\n",
      "No. Observations:  12      Method:             REML           \n",
      "No. Groups:        4       Scale:              5.3889         \n",
      "Min. group size:   3       Log-Likelihood:     -22.4294       \n",
      "Max. group size:   3       Converged:          Yes            \n",
      "Mean group size:   3.0                                        \n",
      "--------------------------------------------------------------\n",
      "                      Coef. Std.Err.   z   P>|z| [0.025 0.975]\n",
      "--------------------------------------------------------------\n",
      "Intercept             8.750    1.161 7.539 0.000  6.475 11.025\n",
      "Protocol[T.Protocol1] 2.500    1.641 1.523 0.128 -0.717  5.717\n",
      "Protocol[T.Protocol2] 3.750    1.641 2.285 0.022  0.533  6.967\n",
      "Group Var             0.000                                   \n",
      "==============================================================\n",
      "\n"
     ]
    },
    {
     "name": "stderr",
     "output_type": "stream",
     "text": [
      "/home/tplas/anaconda3/envs/s1s2mech/lib/python3.10/site-packages/statsmodels/base/model.py:607: ConvergenceWarning: Maximum Likelihood optimization failed to converge. Check mle_retvals\n",
      "  warnings.warn(\"Maximum Likelihood optimization failed to \"\n",
      "/home/tplas/anaconda3/envs/s1s2mech/lib/python3.10/site-packages/statsmodels/regression/mixed_linear_model.py:2201: ConvergenceWarning: Retrying MixedLM optimization with lbfgs\n",
      "  warnings.warn(\n",
      "/home/tplas/anaconda3/envs/s1s2mech/lib/python3.10/site-packages/statsmodels/regression/mixed_linear_model.py:2238: ConvergenceWarning: The MLE may be on the boundary of the parameter space.\n",
      "  warnings.warn(msg, ConvergenceWarning)\n",
      "/home/tplas/anaconda3/envs/s1s2mech/lib/python3.10/site-packages/statsmodels/regression/mixed_linear_model.py:2262: ConvergenceWarning: The Hessian matrix at the estimated parameter values is not positive definite.\n",
      "  warnings.warn(msg, ConvergenceWarning)\n"
     ]
    }
   ],
   "source": [
    "import pandas as pd\n",
    "import statsmodels.api as sm\n",
    "import statsmodels.formula.api as smf\n",
    "import numpy as np\n",
    "\n",
    "# Sample data (replace this with your actual data)\n",
    "data = {\n",
    "    'Animal_ID': np.tile(['A', 'B', 'C', 'D'], 3),  # Animal IDs\n",
    "    'Protocol': np.repeat(['Protocol1', 'Protocol2', 'Protocol3'], 4),  # Protocol names\n",
    "    'Neural_Response': [10, 15, 12, 8, 12, 11, 13, 14, 12, 7, 7, 9]  # Neural response values\n",
    "}\n",
    "\n",
    "# Create a pandas DataFrame from the sample data\n",
    "df = pd.DataFrame(data)\n",
    "\n",
    "# # Convert Animal_ID and Protocol to categorical variables\n",
    "df['Animal_ID'] = pd.Categorical(df['Animal_ID'])\n",
    "df['Protocol'] = pd.Categorical(df['Protocol'],  categories=['Protocol3', 'Protocol1', 'Protocol2'], ordered=True)\n",
    "\n",
    "print(df.head(8), '\\n\\n')\n",
    "\n",
    "# Fit a mixed-effects model\n",
    "mixed_lm = smf.mixedlm(\"Neural_Response ~ Protocol\", df, groups=df[\"Animal_ID\"])\n",
    "mixed_lm_fit = mixed_lm.fit()\n",
    "\n",
    "# Print the summary of the model\n",
    "print(mixed_lm_fit.summary())\n"
   ]
  },
  {
   "cell_type": "code",
   "execution_count": 20,
   "metadata": {},
   "outputs": [
    {
     "name": "stdout",
     "output_type": "stream",
     "text": [
      "[[0 1 2 3 4]\n",
      " [5 6 7 8 9]]\n",
      "(2, 5)\n",
      "[0 1 2 3 4 5 6 7 8 9]\n"
     ]
    }
   ],
   "source": [
    "tmp = np.arange(10).reshape(2, 5)\n",
    "print(tmp)\n",
    "print(tmp.shape)\n",
    "print(tmp.flatten())\n",
    "\n",
    "## Use tile for the first dimension and repeat for the second dimension, see below:"
   ]
  },
  {
   "cell_type": "code",
   "execution_count": 22,
   "metadata": {},
   "outputs": [
    {
     "data": {
      "text/plain": [
       "array(['a', 'a', 'a', 'a', 'a', 'b', 'b', 'b', 'b', 'b'], dtype='<U1')"
      ]
     },
     "execution_count": 22,
     "metadata": {},
     "output_type": "execute_result"
    }
   ],
   "source": [
    "np.repeat(['a', 'b'], 5)"
   ]
  },
  {
   "cell_type": "code",
   "execution_count": 23,
   "metadata": {},
   "outputs": [
    {
     "data": {
      "text/plain": [
       "array(['a', 'b', 'a', 'b', 'a', 'b', 'a', 'b', 'a', 'b'], dtype='<U1')"
      ]
     },
     "execution_count": 23,
     "metadata": {},
     "output_type": "execute_result"
    }
   ],
   "source": [
    "np.tile(['a', 'b'], 5)"
   ]
  }
 ],
 "metadata": {
  "kernelspec": {
   "display_name": "s1s2mech",
   "language": "python",
   "name": "python3"
  },
  "language_info": {
   "codemirror_mode": {
    "name": "ipython",
    "version": 3
   },
   "file_extension": ".py",
   "mimetype": "text/x-python",
   "name": "python",
   "nbconvert_exporter": "python",
   "pygments_lexer": "ipython3",
   "version": "3.10.14"
  }
 },
 "nbformat": 4,
 "nbformat_minor": 2
}
