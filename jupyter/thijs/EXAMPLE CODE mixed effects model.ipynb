{
 "cells": [
  {
   "cell_type": "code",
   "execution_count": 1,
   "metadata": {},
   "outputs": [
    {
     "name": "stdout",
     "output_type": "stream",
     "text": [
      "             Mixed Linear Model Regression Results\n",
      "================================================================\n",
      "Model:             MixedLM  Dependent Variable:  Neural_Response\n",
      "No. Observations:  9        Method:              REML           \n",
      "No. Groups:        3        Scale:               1.6111         \n",
      "Min. group size:   3        Log-Likelihood:      -12.8694       \n",
      "Max. group size:   3        Converged:           Yes            \n",
      "Mean group size:   3.0                                          \n",
      "----------------------------------------------------------------\n",
      "                      Coef.  Std.Err.   z    P>|z| [0.025 0.975]\n",
      "----------------------------------------------------------------\n",
      "Intercept             10.333    1.000 10.333 0.000  8.373 12.293\n",
      "Protocol[T.Protocol2]  3.333    1.036  3.216 0.001  1.302  5.365\n",
      "Protocol[T.Protocol3]  1.333    1.036  1.287 0.198 -0.698  3.365\n",
      "Group Var              1.389    1.858                           \n",
      "================================================================\n",
      "\n"
     ]
    }
   ],
   "source": [
    "import pandas as pd\n",
    "import statsmodels.api as sm\n",
    "import statsmodels.formula.api as smf\n",
    "\n",
    "# Sample data (replace this with your actual data)\n",
    "data = {\n",
    "    'Animal_ID': ['A', 'A', 'A', 'B', 'B', 'B', 'C', 'C', 'C'],  # Animal IDs\n",
    "    'Protocol': ['Protocol1', 'Protocol2', 'Protocol3'] * 3,  # Protocol names\n",
    "    'Neural_Response': [10, 15, 12, 8, 12, 11, 13, 14, 12]  # Neural response values\n",
    "}\n",
    "\n",
    "# Create a pandas DataFrame from the sample data\n",
    "df = pd.DataFrame(data)\n",
    "\n",
    "# Convert Animal_ID and Protocol to categorical variables\n",
    "df['Animal_ID'] = pd.Categorical(df['Animal_ID'])\n",
    "df['Protocol'] = pd.Categorical(df['Protocol'])\n",
    "\n",
    "# Fit a mixed-effects model\n",
    "mixed_lm = smf.mixedlm(\"Neural_Response ~ Protocol\", df, groups=df[\"Animal_ID\"])\n",
    "mixed_lm_fit = mixed_lm.fit()\n",
    "\n",
    "# Print the summary of the model\n",
    "print(mixed_lm_fit.summary())\n"
   ]
  },
  {
   "cell_type": "code",
   "execution_count": null,
   "metadata": {},
   "outputs": [],
   "source": []
  }
 ],
 "metadata": {
  "kernelspec": {
   "display_name": "s1s2mech",
   "language": "python",
   "name": "python3"
  },
  "language_info": {
   "codemirror_mode": {
    "name": "ipython",
    "version": 3
   },
   "file_extension": ".py",
   "mimetype": "text/x-python",
   "name": "python",
   "nbconvert_exporter": "python",
   "pygments_lexer": "ipython3",
   "version": "3.10.14"
  }
 },
 "nbformat": 4,
 "nbformat_minor": 2
}
